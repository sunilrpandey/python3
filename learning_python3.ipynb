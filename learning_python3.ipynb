{
 "cells": [
  {
   "cell_type": "markdown",
   "metadata": {},
   "source": [
    "# Python Learning "
   ]
  },
  {
   "cell_type": "markdown",
   "metadata": {},
   "source": [
    "This document will have notes as well as codes for python"
   ]
  },
  {
   "cell_type": "code",
   "execution_count": 1,
   "metadata": {},
   "outputs": [
    {
     "name": "stdout",
     "output_type": "stream",
     "text": [
      "Hello Python 3!!\n",
      "This is second line\n"
     ]
    }
   ],
   "source": [
    "#todo : print keywords\n",
    "print(\"Hello Python 3!!\")\n",
    "print(\"This is second line\")"
   ]
  },
  {
   "cell_type": "code",
   "execution_count": 5,
   "metadata": {},
   "outputs": [
    {
     "name": "stdout",
     "output_type": "stream",
     "text": [
      "25\n",
      "<class 'int'>\n",
      "8\n"
     ]
    }
   ],
   "source": [
    "#Variables are defined without using datatypes\n",
    "a = 15\n",
    "print(a + 10)\n",
    "\n",
    "#below line will print type of 'a'\n",
    "print(type(a))\n",
    "\n",
    "#power operator is **\n",
    "print(2 ** 3)"
   ]
  },
  {
   "cell_type": "code",
   "execution_count": 1,
   "metadata": {},
   "outputs": [
    {
     "name": "stdout",
     "output_type": "stream",
     "text": [
      "<module 'math' from '/home/linus/anaconda3/lib/python3.7/lib-dynload/math.cpython-37m-x86_64-linux-gnu.so'>\n",
      "Circumference of a circle is 2 * pi * r, so calculate for r = 2\n",
      "Circumference :  12.566370614359172\n",
      "\n",
      "func being re-used, called two times in one func\n",
      "Circumference of a circle is 2 * pi * r, so calculate for r = 2\n",
      "Circumference :  12.566370614359172\n",
      "Circumference of a circle is 2 * pi * r, so calculate for r = 2\n",
      "Circumference :  12.566370614359172\n",
      "Func as arg is being used to print\n"
     ]
    }
   ],
   "source": [
    "import math\n",
    "print(math)\n",
    "\n",
    "def demo_math():\n",
    "    print(\"Circumference of a circle is 2 * pi * r, so calculate for r = 2\")\n",
    "    print(\"Circumference : \", 2 * math.pi * 2)\n",
    "    \n",
    "def reuse_fun(message):\n",
    "    print(message)\n",
    "    demo_math();\n",
    "    demo_math();\n",
    "    \n",
    "def func_with_msg(msg) :\n",
    "    print (msg);\n",
    "\n",
    "def pass_func_as_arg_toprint(f, msg):\n",
    "    f(msg);\n",
    "\n",
    "demo_math()\n",
    "\n",
    "msg = \"\\nfunc being re-used, called two times in one func\"\n",
    "reuse_fun(msg)\n",
    "\n",
    "pass_func_as_arg_toprint(func_with_msg, \"Func as arg is being used to print\");\n"
   ]
  },
  {
   "cell_type": "code",
   "execution_count": 1,
   "metadata": {},
   "outputs": [],
   "source": [
    "# list all functions of a module\n",
    "# dir(math)"
   ]
  },
  {
   "cell_type": "code",
   "execution_count": null,
   "metadata": {},
   "outputs": [],
   "source": []
  },
  {
   "cell_type": "code",
   "execution_count": null,
   "metadata": {},
   "outputs": [],
   "source": []
  }
 ],
 "metadata": {
  "kernelspec": {
   "display_name": "Python 3",
   "language": "python",
   "name": "python3"
  },
  "language_info": {
   "codemirror_mode": {
    "name": "ipython",
    "version": 3
   },
   "file_extension": ".py",
   "mimetype": "text/x-python",
   "name": "python",
   "nbconvert_exporter": "python",
   "pygments_lexer": "ipython3",
   "version": "3.7.6"
  }
 },
 "nbformat": 4,
 "nbformat_minor": 4
}
